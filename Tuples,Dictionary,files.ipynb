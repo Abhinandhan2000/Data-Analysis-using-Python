{
 "cells": [
  {
   "cell_type": "code",
   "execution_count": 20,
   "id": "1a52076e",
   "metadata": {},
   "outputs": [],
   "source": [
    "#tuples"
   ]
  },
  {
   "cell_type": "code",
   "execution_count": 9,
   "id": "3e2dc26f",
   "metadata": {},
   "outputs": [
    {
     "name": "stdout",
     "output_type": "stream",
     "text": [
      "('a', 'b', 'c')\n",
      "(1, 2, 3, 4, 5, 6, 7, 8)\n",
      "('a', 2)\n"
     ]
    }
   ],
   "source": [
    "#Initialize values to tuples\n",
    "tup= ('a','b','c')\n",
    "print(tup)\n",
    "tup1=(1,2,3,4,5,6,7,8)\n",
    "print(tup1)\n",
    "tup2=\"a\",2\n",
    "print(tup2)"
   ]
  },
  {
   "cell_type": "code",
   "execution_count": 10,
   "id": "b0e15d9d",
   "metadata": {},
   "outputs": [
    {
     "name": "stdout",
     "output_type": "stream",
     "text": [
      "b\n",
      "a\n",
      "(3, 4, 5)\n"
     ]
    }
   ],
   "source": [
    "#printing values of tuple using indexes and range of indexes\n",
    "print(tup[1])\n",
    "print(tup2[0])\n",
    "print(tup1[2:5])"
   ]
  },
  {
   "cell_type": "code",
   "execution_count": 11,
   "id": "4f9442fa",
   "metadata": {},
   "outputs": [
    {
     "name": "stdout",
     "output_type": "stream",
     "text": [
      "('a', 2)\n"
     ]
    }
   ],
   "source": [
    "#delete a tuple using 'del'\n",
    "print(tup2)\n",
    "del(tup2)"
   ]
  },
  {
   "cell_type": "code",
   "execution_count": 13,
   "id": "0809c43f",
   "metadata": {},
   "outputs": [
    {
     "name": "stdout",
     "output_type": "stream",
     "text": [
      "('a', 'b', 'c', 1, 2, 3, 4, 5, 6, 7, 8)\n"
     ]
    }
   ],
   "source": [
    "#concatination of tuples\n",
    "t=tup+tup1\n",
    "print(t)"
   ]
  },
  {
   "cell_type": "code",
   "execution_count": 14,
   "id": "4d06a1d9",
   "metadata": {},
   "outputs": [
    {
     "data": {
      "text/plain": [
       "11"
      ]
     },
     "execution_count": 14,
     "metadata": {},
     "output_type": "execute_result"
    }
   ],
   "source": [
    "#find length of tuple using 'len'\n",
    "len(t)"
   ]
  },
  {
   "cell_type": "code",
   "execution_count": 17,
   "id": "69e333e4",
   "metadata": {},
   "outputs": [
    {
     "name": "stdout",
     "output_type": "stream",
     "text": [
      "8\n",
      "1\n"
     ]
    }
   ],
   "source": [
    "#find max and min element of tuple\n",
    "print(max(tup1))\n",
    "print(min(tup1))"
   ]
  },
  {
   "cell_type": "code",
   "execution_count": 18,
   "id": "a673209c",
   "metadata": {},
   "outputs": [
    {
     "name": "stdout",
     "output_type": "stream",
     "text": [
      "c\n",
      "a\n"
     ]
    }
   ],
   "source": [
    "print(max(tup))\n",
    "print(min(tup))"
   ]
  },
  {
   "cell_type": "code",
   "execution_count": 19,
   "id": "cc119d6d",
   "metadata": {},
   "outputs": [],
   "source": [
    "#dictionary"
   ]
  },
  {
   "cell_type": "code",
   "execution_count": 21,
   "id": "287eb073",
   "metadata": {},
   "outputs": [
    {
     "name": "stdout",
     "output_type": "stream",
     "text": [
      "Abhi\n",
      "2018\n"
     ]
    }
   ],
   "source": [
    "#Initialize key-value pairs in the dictinary and print values using key\n",
    "dict={'name':'Abhi','age':21,'batch':2018,'univ':'cmr'}\n",
    "print(dict['name'])\n",
    "print(dict['batch'])"
   ]
  },
  {
   "cell_type": "code",
   "execution_count": 26,
   "id": "c59f08a6",
   "metadata": {},
   "outputs": [
    {
     "name": "stdout",
     "output_type": "stream",
     "text": [
      "7sem\n"
     ]
    }
   ],
   "source": [
    "#Add a new key and value to a dictionary\n",
    "dict['class']='7sem'\n",
    "print(dict['class'])"
   ]
  },
  {
   "cell_type": "code",
   "execution_count": 27,
   "id": "dd582806",
   "metadata": {},
   "outputs": [
    {
     "name": "stdout",
     "output_type": "stream",
     "text": [
      "{'name': 'Abhi', 'age': 21, 'batch': 2018, 'univ': 'cmr', 'class': '7sem'}\n"
     ]
    }
   ],
   "source": [
    "print(dict)"
   ]
  },
  {
   "cell_type": "code",
   "execution_count": 28,
   "id": "a244d0c0",
   "metadata": {},
   "outputs": [
    {
     "name": "stdout",
     "output_type": "stream",
     "text": [
      "{'name': 'Abhi', 'age': 21, 'batch': 2018, 'univ': 'cmr'}\n"
     ]
    }
   ],
   "source": [
    "#delete a key-value pair from a dictionary\n",
    "del dict['class']\n",
    "print(dict)"
   ]
  },
  {
   "cell_type": "code",
   "execution_count": 29,
   "id": "89426ec6",
   "metadata": {},
   "outputs": [
    {
     "data": {
      "text/plain": [
       "4"
      ]
     },
     "execution_count": 29,
     "metadata": {},
     "output_type": "execute_result"
    }
   ],
   "source": [
    "#find length of dictionary\n",
    "len(dict)"
   ]
  },
  {
   "cell_type": "code",
   "execution_count": 30,
   "id": "609c7a3e",
   "metadata": {},
   "outputs": [
    {
     "name": "stdout",
     "output_type": "stream",
     "text": [
      "dict_values(['Abhi', 21, 2018, 'cmr'])\n",
      "dict_items([('name', 'Abhi'), ('age', 21), ('batch', 2018), ('univ', 'cmr')])\n",
      "dict_keys(['name', 'age', 'batch', 'univ'])\n"
     ]
    }
   ],
   "source": [
    "#print the values of dictionary\n",
    "print(dict.values())\n",
    "#print the key-value pairs of dictionary\n",
    "print(dict.items())\n",
    "#print the keys of dictionary\n",
    "print(dict.keys())"
   ]
  },
  {
   "cell_type": "code",
   "execution_count": 31,
   "id": "e83e8c36",
   "metadata": {},
   "outputs": [
    {
     "name": "stdout",
     "output_type": "stream",
     "text": [
      "{}\n"
     ]
    }
   ],
   "source": [
    "#Remove/clear items of dictionary\n",
    "d={'edu':'btech-mtech','students':'7sem'}\n",
    "d.clear()\n",
    "print(d)"
   ]
  },
  {
   "cell_type": "code",
   "execution_count": 33,
   "id": "b9ab3100",
   "metadata": {},
   "outputs": [
    {
     "name": "stdout",
     "output_type": "stream",
     "text": [
      "{'name': 'Abhi', 'age': 21, 'batch': 2018, 'univ': 'cmr', 'edu': 'btech', 'usn': '18bbtcs045'}\n"
     ]
    }
   ],
   "source": [
    "#Update an existing dictionary with an other dictionary\n",
    "dict2={'edu':'btech','usn':'18bbtcs045'}\n",
    "dict.update(dict2)\n",
    "print(dict)"
   ]
  },
  {
   "cell_type": "code",
   "execution_count": 34,
   "id": "f7e959e6",
   "metadata": {},
   "outputs": [
    {
     "name": "stdout",
     "output_type": "stream",
     "text": [
      "2018\n"
     ]
    }
   ],
   "source": [
    "#get value of a  key\n",
    "print(dict.get('batch'))"
   ]
  },
  {
   "cell_type": "code",
   "execution_count": 36,
   "id": "57490b00",
   "metadata": {},
   "outputs": [
    {
     "name": "stdout",
     "output_type": "stream",
     "text": [
      "{'name': 'Abhi', 'age': 21, 'batch': 2018, 'univ': 'cmr', 'edu': 'btech', 'usn': '18bbtcs045'}\n"
     ]
    }
   ],
   "source": [
    "#copy a dictionary\n",
    "d3=dict.copy()\n",
    "print(d3)"
   ]
  },
  {
   "cell_type": "code",
   "execution_count": 37,
   "id": "82dbf849",
   "metadata": {},
   "outputs": [],
   "source": [
    "#files"
   ]
  },
  {
   "cell_type": "code",
   "execution_count": 38,
   "id": "022a48be",
   "metadata": {},
   "outputs": [
    {
     "name": "stdout",
     "output_type": "stream",
     "text": [
      "Name of the file:  Dap.txt\n"
     ]
    }
   ],
   "source": [
    "# Open a file\n",
    "fo = open(\"Dap.txt\", \"wb\")\n",
    "print (\"Name of the file: \", fo.name)\n",
    "\n",
    "# Close opend file\n",
    "fo.close()"
   ]
  },
  {
   "cell_type": "code",
   "execution_count": 39,
   "id": "bc33f5d2",
   "metadata": {},
   "outputs": [
    {
     "name": "stdout",
     "output_type": "stream",
     "text": [
      "data\n"
     ]
    }
   ],
   "source": [
    "f = open(\"dap.txt\", \"a\")\n",
    "f.write(\"data\")\n",
    "f.close()\n",
    "\n",
    "#open and read the file after the appending:\n",
    "f = open(\"dap.txt\", \"r\")\n",
    "print(f.read()) "
   ]
  },
  {
   "cell_type": "code",
   "execution_count": 40,
   "id": "8f5bf408",
   "metadata": {},
   "outputs": [
    {
     "name": "stdout",
     "output_type": "stream",
     "text": [
      "Read String is :  data\n"
     ]
    }
   ],
   "source": [
    "# Open a file\n",
    "fo = open(\"dap.txt\", \"r+\")\n",
    "str = fo.read(4);\n",
    "print (\"Read String is : \", str)\n",
    "# Close opend file\n",
    "fo.close()"
   ]
  },
  {
   "cell_type": "code",
   "execution_count": 41,
   "id": "e3a061c1",
   "metadata": {},
   "outputs": [
    {
     "name": "stdout",
     "output_type": "stream",
     "text": [
      "Name of the file:  dap.txt\n",
      "Closed or not :  False\n",
      "Opening mode :  wb\n"
     ]
    }
   ],
   "source": [
    "fo = open(\"dap.txt\", \"wb\")\n",
    "print (\"Name of the file: \", fo.name)\n",
    "print (\"Closed or not : \", fo.closed)\n",
    "print (\"Opening mode : \", fo.mode)\n"
   ]
  },
  {
   "cell_type": "code",
   "execution_count": 43,
   "id": "278c90df",
   "metadata": {},
   "outputs": [
    {
     "name": "stdout",
     "output_type": "stream",
     "text": [
      "Read String is :  data\n",
      "Current file position :  21\n",
      "Again read String is :  ata ana\n",
      "my new string=  lys\n"
     ]
    }
   ],
   "source": [
    "# Open a file\n",
    "fo = open(\"dap.txt\", \"r+\")\n",
    "\n",
    "str = fo.read(4)\n",
    "print (\"Read String is : \", str)\n",
    "fo.write(\"analysis\")\n",
    "# Check current position\n",
    "position = fo.tell()\n",
    "print (\"Current file position : \", position)\n",
    "\n",
    "# Reposition pointer at the beginning once again\n",
    "position = fo.seek(1, 0);\n",
    "str = fo.read(7)\n",
    "print (\"Again read String is : \", str)\n",
    "\n",
    "ptr=fo.seek(0,1)\n",
    "str1=fo.read(3)\n",
    "print(\"my new string= \", str1)\n",
    "\n",
    "# Close opened file\n",
    "fo.close()"
   ]
  },
  {
   "cell_type": "code",
   "execution_count": 52,
   "id": "1dbd4792",
   "metadata": {},
   "outputs": [
    {
     "name": "stdout",
     "output_type": "stream",
     "text": [
      "C:\\Users\\Sharadha\\Labs\\DAP\n"
     ]
    }
   ],
   "source": [
    "import os\n",
    "\n",
    "# Rename a file\n",
    "os.rename(\"a.txt\", \"dapt.txt\" )\n",
    "\n",
    "# Delete file dapt.txt\n",
    "os.remove(\"dapt.txt\")\n",
    "\n",
    "# This would give location of the current directory\n",
    "print(os.getcwd())\n",
    "\n",
    "# Create a directory \"test\"\n",
    "os.mkdir(\"test\")\n",
    "\n"
   ]
  }
 ],
 "metadata": {
  "kernelspec": {
   "display_name": "Python 3",
   "language": "python",
   "name": "python3"
  },
  "language_info": {
   "codemirror_mode": {
    "name": "ipython",
    "version": 3
   },
   "file_extension": ".py",
   "mimetype": "text/x-python",
   "name": "python",
   "nbconvert_exporter": "python",
   "pygments_lexer": "ipython3",
   "version": "3.8.8"
  }
 },
 "nbformat": 4,
 "nbformat_minor": 5
}
