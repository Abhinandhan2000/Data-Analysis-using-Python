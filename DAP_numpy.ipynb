{
 "cells": [
  {
   "cell_type": "code",
   "execution_count": 2,
   "id": "1cd80227",
   "metadata": {},
   "outputs": [],
   "source": [
    "#Importing library 'numpy' as alias np\n",
    "import numpy as np "
   ]
  },
  {
   "cell_type": "code",
   "execution_count": 4,
   "id": "f196310a",
   "metadata": {},
   "outputs": [
    {
     "name": "stdout",
     "output_type": "stream",
     "text": [
      "[1 2 3]\n"
     ]
    }
   ],
   "source": [
    "#Using arrays from numpy\n",
    "a= np.array([1, 2, 3])\n",
    "print(a)"
   ]
  },
  {
   "cell_type": "code",
   "execution_count": 6,
   "id": "a43f6529",
   "metadata": {},
   "outputs": [
    {
     "name": "stdout",
     "output_type": "stream",
     "text": [
      "[[ 1  2  3  4]\n",
      " [ 5  6  7  8]\n",
      " [ 9 10 11 12]]\n"
     ]
    }
   ],
   "source": [
    "#Implementing n-D arrays\n",
    "a = np.array([[1 , 2, 3, 4], [5, 6, 7, 8], [9, 10,11,12]])\n",
    "print(a)"
   ]
  },
  {
   "cell_type": "code",
   "execution_count": 6,
   "id": "cf15da2b",
   "metadata": {},
   "outputs": [
    {
     "name": "stdout",
     "output_type": "stream",
     "text": [
      "[0. 0.]\n"
     ]
    }
   ],
   "source": [
    "#print an array of 0's\n",
    "a=np.zeros(2)\n",
    "print(a)"
   ]
  },
  {
   "cell_type": "code",
   "execution_count": 7,
   "id": "92ca021c",
   "metadata": {},
   "outputs": [
    {
     "name": "stdout",
     "output_type": "stream",
     "text": [
      "[1. 1. 1. 1.]\n"
     ]
    }
   ],
   "source": [
    "#print an array of 1's\n",
    "a=np.ones(4)\n",
    "print(a)"
   ]
  },
  {
   "cell_type": "code",
   "execution_count": 14,
   "id": "2baee216",
   "metadata": {},
   "outputs": [
    {
     "name": "stdout",
     "output_type": "stream",
     "text": [
      "[1. 1. 1. 1.]\n"
     ]
    }
   ],
   "source": [
    "#Empty: returns an array of given shape/type with random values\n",
    "aa=np.empty(4)\n",
    "print(aa)"
   ]
  },
  {
   "cell_type": "code",
   "execution_count": 18,
   "id": "3630dad4",
   "metadata": {},
   "outputs": [
    {
     "name": "stdout",
     "output_type": "stream",
     "text": [
      "[0 1 2 3 4 5 6]\n",
      "[1 3 5]\n"
     ]
    }
   ],
   "source": [
    "#Print values within range 7\n",
    "a=np.arange(7)\n",
    "print(a)\n",
    "#print values in range 1-6 with a difference of 2\n",
    "b=np.arange(1,6,2)\n",
    "print(b)"
   ]
  },
  {
   "cell_type": "code",
   "execution_count": 19,
   "id": "6f86a29d",
   "metadata": {},
   "outputs": [
    {
     "name": "stdout",
     "output_type": "stream",
     "text": [
      "[1 2 3 4 5 6 7 8]\n",
      "[1 3 4 5 6 7 8]\n"
     ]
    }
   ],
   "source": [
    "#delete an element from array using index\n",
    "a = np.array([1, 2, 3, 4, 5, 6, 7, 8])\n",
    "print(a)\n",
    "a=np.delete(a, 1)\n",
    "print(a)"
   ]
  },
  {
   "cell_type": "code",
   "execution_count": 27,
   "id": "322878f0",
   "metadata": {},
   "outputs": [
    {
     "name": "stdout",
     "output_type": "stream",
     "text": [
      "[8 2 5 1 6 7]\n",
      "[1 2 5 6 7 8]\n",
      "(6,)\n"
     ]
    }
   ],
   "source": [
    "a = np.array([8,2,5,1,6,7])\n",
    "print(a)\n",
    "#Sort the array using function 'sort()'\n",
    "a=np.sort(a)\n",
    "print(a)\n",
    "#find shape of array using function 'shape()'\n",
    "b=np.shape(a)\n",
    "print(b)"
   ]
  },
  {
   "cell_type": "code",
   "execution_count": 35,
   "id": "0f11a8ad",
   "metadata": {},
   "outputs": [
    {
     "name": "stdout",
     "output_type": "stream",
     "text": [
      "[[1 2 3 4]\n",
      " [5 6 7 8]]\n",
      "[[1 2]\n",
      " [3 4]\n",
      " [5 6]\n",
      " [7 8]]\n",
      "2\n",
      "8\n"
     ]
    }
   ],
   "source": [
    "a=np.array([[1,2,3,4],[5,6,7,8]])\n",
    "print(a)\n",
    "#reshape the array with different no. of rows and columns with same elements\n",
    "b = a.reshape(4,2)\n",
    "print(b)\n",
    "#ndim:find the number of dimensions of array\n",
    "c=a.ndim\n",
    "print(c)\n",
    "#find the size of array(no. of elements)\n",
    "d=a.size\n",
    "print(d)"
   ]
  },
  {
   "cell_type": "code",
   "execution_count": 40,
   "id": "b918b92d",
   "metadata": {},
   "outputs": [
    {
     "name": "stdout",
     "output_type": "stream",
     "text": [
      "0\n",
      "3\n"
     ]
    }
   ],
   "source": [
    "#Find the number of dimensions of array\n",
    "a=np.array(2)\n",
    "b = np.array([[[1, 2, 3], [4, 5, 6]], [[1, 2, 3], [4, 5, 6]]])\n",
    "c=a.ndim\n",
    "d=b.ndim\n",
    "print(c)\n",
    "print(d)"
   ]
  },
  {
   "cell_type": "code",
   "execution_count": 41,
   "id": "f08bf77f",
   "metadata": {},
   "outputs": [
    {
     "name": "stdout",
     "output_type": "stream",
     "text": [
      "9\n",
      "[10 20 30]\n",
      "Addition [19 29 39]\n",
      "Subtraction = [ 1 11 21]\n",
      "Multiplcation = [ 90 180 270]\n",
      "Division = [1.11111111 2.22222222 3.33333333]\n",
      "Division = [2. 4. 6.]\n"
     ]
    }
   ],
   "source": [
    "#Perform airthmatic operations using functions\n",
    "a=np.array(9)\n",
    "print(a)\n",
    "b=np.array([10,20,30])\n",
    "print(b)\n",
    "addition= np.add(a,b)\n",
    "print(\"Addition\", addition)\n",
    "sub=np.subtract(b,a)\n",
    "print(\"Subtraction =\",sub)\n",
    "mul=np.multiply (a,b)\n",
    "print(\"Multiplcation =\",mul)\n",
    "div=np.divide (b,a)\n",
    "print(\"Division =\",div)\n",
    "div1=np.divide (b,5)\n",
    "print(\"Division =\",div1)"
   ]
  },
  {
   "cell_type": "code",
   "execution_count": 42,
   "id": "c591b0eb",
   "metadata": {},
   "outputs": [
    {
     "name": "stdout",
     "output_type": "stream",
     "text": [
      "[0.5   1.8   2.441 3.14 ]\n",
      "[2.         0.55555556 0.40966817 0.31847134]\n"
     ]
    }
   ],
   "source": [
    "#find reciprocal of the elements of array\n",
    "a= np.array([0.5,1.8,2.441,3.14])\n",
    "print(a)\n",
    "rec=np.reciprocal(a) \n",
    "print(rec)"
   ]
  },
  {
   "cell_type": "code",
   "execution_count": 43,
   "id": "856bf3e7",
   "metadata": {},
   "outputs": [
    {
     "name": "stdout",
     "output_type": "stream",
     "text": [
      "[10 20 30]\n",
      "[3 5 7]\n",
      "MOD= [1 0 2]\n",
      "REMAINDER= [1 0 2]\n"
     ]
    }
   ],
   "source": [
    "#find mod and remainder\n",
    "a= np.array ([10,20,30])\n",
    "b= np.array ([3,5,7])\n",
    "print(a)\n",
    "print(b)\n",
    "mm=np.mod(a,b)\n",
    "rm=np.remainder(a,b)\n",
    "print(\"MOD=\", mm)\n",
    "print(\"REMAINDER=\", rm)"
   ]
  },
  {
   "cell_type": "code",
   "execution_count": 44,
   "id": "20ebd3ca",
   "metadata": {},
   "outputs": [
    {
     "name": "stdout",
     "output_type": "stream",
     "text": [
      "[-0.-5.6j  0.+0.2j 11.+0.j   1.+1.j ]\n",
      "real= [-0.  0. 11.  1.]\n",
      "imaginary= [-5.6  0.2  0.   1. ]\n",
      "Conjugate= [-0.+5.6j  0.-0.2j 11.-0.j   1.-1.j ]\n"
     ]
    }
   ],
   "source": [
    "#find the real, imaginary and conjugate part of the elements\n",
    "a=np.array([-5.6j, 0.2j,11, 1+1j])\n",
    "print(a)\n",
    "print(\"real=\",np.real(a))\n",
    "print(\"imaginary=\",np.imag(a))\n",
    "print(\"Conjugate=\", np.conj(a))"
   ]
  },
  {
   "cell_type": "code",
   "execution_count": 45,
   "id": "bd1cc86e",
   "metadata": {},
   "outputs": [
    {
     "name": "stdout",
     "output_type": "stream",
     "text": [
      "[  1.     5.3  123.     0.56  25.5   32.  ]\n",
      "[  1.   5. 123.   1.  26.  32.]\n",
      "[  1.    5.3 123.    0.6  25.5  32. ]\n"
     ]
    }
   ],
   "source": [
    "a=np.array ([1.0,5.3,123,0.56,25.5,32])\n",
    "print(a)\n",
    "#round the number\n",
    "print(np.around(a))\n",
    "#round the number with 1 decimal digit precision\n",
    "print(np.around(a,decimals=1))"
   ]
  },
  {
   "cell_type": "code",
   "execution_count": 46,
   "id": "30c99f5d",
   "metadata": {},
   "outputs": [
    {
     "name": "stdout",
     "output_type": "stream",
     "text": [
      "[  1.    -5.3  123.    -0.56  25.5   32.  ]\n",
      "Floor [  1.  -6. 123.  -1.  25.  32.]\n",
      "Ceil [  1.  -5. 123.  -0.  26.  32.]\n"
     ]
    }
   ],
   "source": [
    "#Use the floor and ceil function\n",
    "a=np.array ([1.0,-5.3,123,-0.56,25.5,32])\n",
    "print(a)\n",
    "print(\"Floor\",np.floor(a))\n",
    "print(\"Ceil\",np.ceil(a))"
   ]
  },
  {
   "cell_type": "code",
   "execution_count": 48,
   "id": "f3500fe0",
   "metadata": {},
   "outputs": [
    {
     "name": "stdout",
     "output_type": "stream",
     "text": [
      "[    100   10000 1000000]\n",
      "[ 100000 1000000 1000000]\n"
     ]
    }
   ],
   "source": [
    "#find power using base and exponent \n",
    "a=np.array([10,100,1000])\n",
    "pow=np.power(a,2)\n",
    "print(pow)\n",
    "b=np.array([5,3,2])\n",
    "p=np.power(a,b)\n",
    "print(p)"
   ]
  },
  {
   "cell_type": "code",
   "execution_count": 3,
   "id": "9551d3e4",
   "metadata": {},
   "outputs": [
    {
     "name": "stdout",
     "output_type": "stream",
     "text": [
      "(array([3, 5, 6], dtype=int64),)\n"
     ]
    }
   ],
   "source": [
    "#Search the postions of the elements of array\n",
    "arr = np.array([1, 2, 3, 4, 5, 4, 4])\n",
    "x = np.where(arr == 4)\n",
    "print(x)"
   ]
  },
  {
   "cell_type": "code",
   "execution_count": 6,
   "id": "488c2bb8",
   "metadata": {},
   "outputs": [
    {
     "name": "stdout",
     "output_type": "stream",
     "text": [
      "2\n"
     ]
    }
   ],
   "source": [
    "#Search sorted is used search number of elements less than given number(to the left by default) \n",
    "arr = np.array([6, 7, 18, 19])\n",
    "x = np.searchsorted(arr,11)\n",
    "print(x)"
   ]
  },
  {
   "cell_type": "code",
   "execution_count": 7,
   "id": "16acdcac",
   "metadata": {},
   "outputs": [
    {
     "name": "stdout",
     "output_type": "stream",
     "text": [
      "3\n"
     ]
    }
   ],
   "source": [
    "#Search to the right side of the given number\n",
    "arr = np.array([6, 7, 18, 29])\n",
    "x = np.searchsorted(arr, 19, side='right')\n",
    "print(x)"
   ]
  },
  {
   "cell_type": "code",
   "execution_count": 13,
   "id": "37cceae4",
   "metadata": {},
   "outputs": [
    {
     "name": "stdout",
     "output_type": "stream",
     "text": [
      "[2 3 4 5]\n",
      "[5 6 7]\n",
      "[1 2 3 4]\n",
      "[1 2 3 4 5 6]\n",
      "[1 3 5 7]\n"
     ]
    }
   ],
   "source": [
    "#Slicing in python means taking elements from one given index to another given index.[start:end] [start:end:step].\n",
    "arr = np.array([1, 2, 3, 4, 5, 6, 7])\n",
    "print(arr[1:5]) \n",
    "print(arr[4:])\n",
    "print(arr[:4])\n",
    "print(arr[:-1])\n",
    "print(arr[::2]) "
   ]
  },
  {
   "cell_type": "code",
   "execution_count": 19,
   "id": "dff52875",
   "metadata": {},
   "outputs": [
    {
     "name": "stdout",
     "output_type": "stream",
     "text": [
      "[11 12]\n",
      "[7 8]\n",
      "[[2 3 4]\n",
      " [7 8 9]]\n"
     ]
    }
   ],
   "source": [
    "arr = np.array([[1, 2, 3, 4, 5], [6, 7, 8, 9, 10],[11,12,13,14,15]])\n",
    "print(arr[2,0:2])\n",
    "print(arr[1,1:3])\n",
    "print(arr[0:2, 1:4])"
   ]
  },
  {
   "cell_type": "code",
   "execution_count": 20,
   "id": "6910f4b0",
   "metadata": {},
   "outputs": [
    {
     "name": "stdout",
     "output_type": "stream",
     "text": [
      "[1 2 3 4 5 6]\n"
     ]
    }
   ],
   "source": [
    "#Concatination: Adding an existing array to another\n",
    "arr1 = np.array([1, 2, 3])\n",
    "arr2 = np.array([4, 5, 6])\n",
    "arr = np.concatenate((arr1, arr2))\n",
    "print(arr) "
   ]
  },
  {
   "cell_type": "code",
   "execution_count": 21,
   "id": "b8a5979c",
   "metadata": {},
   "outputs": [
    {
     "name": "stdout",
     "output_type": "stream",
     "text": [
      "[[1 2]\n",
      " [3 4]]\n",
      "[[5 6]\n",
      " [7 8]]\n",
      "Conactination\n",
      "[[1 2 5 6]\n",
      " [3 4 7 8]]\n"
     ]
    }
   ],
   "source": [
    "arr1 = np.array([[1, 2], [3, 4]])\n",
    "print(arr1) \n",
    "arr2 = np.array([[5, 6], [7, 8]])\n",
    "print(arr2) \n",
    "print(\"Conactination\")\n",
    "arr = np.concatenate((arr1, arr2), axis=1) #0=row, 1=col\n",
    "print(arr) "
   ]
  },
  {
   "cell_type": "code",
   "execution_count": 22,
   "id": "5c78c3b7",
   "metadata": {},
   "outputs": [
    {
     "name": "stdout",
     "output_type": "stream",
     "text": [
      "[[1 2]\n",
      " [3 4]]\n",
      "[[5 6]\n",
      " [7 8]]\n",
      "Conactination\n",
      "[[1 2]\n",
      " [3 4]\n",
      " [5 6]\n",
      " [7 8]]\n"
     ]
    }
   ],
   "source": [
    "arr1 = np.array([[1, 2], [3, 4]])\n",
    "print(arr1) \n",
    "arr2 = np.array([[5, 6], [7, 8]])\n",
    "print(arr2) \n",
    "print(\"Conactination\")\n",
    "arr = np.concatenate((arr1, arr2), axis=0) #1=row, 0=col\n",
    "print(arr) "
   ]
  },
  {
   "cell_type": "code",
   "execution_count": 23,
   "id": "7948fa28",
   "metadata": {},
   "outputs": [
    {
     "name": "stdout",
     "output_type": "stream",
     "text": [
      "hstack [1 2 3 4 5 6]\n",
      "vstack [[1 2 3]\n",
      " [4 5 6]]\n"
     ]
    }
   ],
   "source": [
    "#hstack:combine arrays into 1 single horizontal array\n",
    "#vstack\"combine arrays into 1 single vertical array\n",
    "arr1 = np.array([1, 2, 3])\n",
    "arr2 = np.array([4, 5, 6])\n",
    "a = np.hstack((arr1, arr2))\n",
    "ar = np.vstack((arr1, arr2))\n",
    "print(\"hstack\",a) \n",
    "print(\"vstack\",ar)"
   ]
  },
  {
   "cell_type": "code",
   "execution_count": 24,
   "id": "3b8caf4b",
   "metadata": {},
   "outputs": [
    {
     "name": "stdout",
     "output_type": "stream",
     "text": [
      "\n",
      "hstack =\n",
      " [[   1    2    3    7    8    9]\n",
      " [  11   22   33   77   88   99]\n",
      " [ 111  222  333  777  888  999]\n",
      " [1111 2222 3333 7777 8888 9999]]\n",
      "\n",
      "\n",
      "\n",
      "vstack =\n",
      " [[   1    2    3]\n",
      " [  11   22   33]\n",
      " [ 111  222  333]\n",
      " [1111 2222 3333]\n",
      " [   7    8    9]\n",
      " [  77   88   99]\n",
      " [ 777  888  999]\n",
      " [7777 8888 9999]]\n",
      "\n",
      "\n",
      "\n",
      " concatenate at axis 0=\n",
      " [[   1    2    3]\n",
      " [  11   22   33]\n",
      " [ 111  222  333]\n",
      " [1111 2222 3333]\n",
      " [   7    8    9]\n",
      " [  77   88   99]\n",
      " [ 777  888  999]\n",
      " [7777 8888 9999]]\n",
      "\n",
      "\n",
      "\n",
      " concatenate at axis 1=\n",
      " [[   1    2    3    7    8    9]\n",
      " [  11   22   33   77   88   99]\n",
      " [ 111  222  333  777  888  999]\n",
      " [1111 2222 3333 7777 8888 9999]]\n"
     ]
    }
   ],
   "source": [
    "a = np.array([[1,2,3],[11,22,33],[111,222,333],[1111,2222,3333]])\n",
    "b = np.array([[7,8,9],[77,88,99],[777,888,999],[7777,8888,9999]])\n",
    "print(\"\\nhstack =\\n\", np.hstack((a,b)))\n",
    "print(\"\\n\")\n",
    "print(\"\\nvstack =\\n\", np.vstack((a,b)))\n",
    "arr = np.concatenate((a, b), axis=0)\n",
    "print(\"\\n\")\n",
    "print(\"\\n concatenate at axis 0=\\n\",arr)\n",
    "arr1 = np.concatenate((a, b), axis=1)\n",
    "print(\"\\n\")\n",
    "print(\"\\n concatenate at axis 1=\\n\",arr1)"
   ]
  },
  {
   "cell_type": "code",
   "execution_count": 26,
   "id": "e2a09f6c",
   "metadata": {},
   "outputs": [
    {
     "name": "stdout",
     "output_type": "stream",
     "text": [
      "[[1 2 3]\n",
      " [5 6 7]]\n"
     ]
    },
    {
     "data": {
      "text/plain": [
       "array([1, 2, 3, 5, 6, 7])"
      ]
     },
     "execution_count": 26,
     "metadata": {},
     "output_type": "execute_result"
    }
   ],
   "source": [
    "a = np.array([1, 2,3])\n",
    "b = np.array([5, 6,7])\n",
    "print(np.stack([a,b]))\n",
    "np.stack([a,b]).reshape(-1)"
   ]
  },
  {
   "cell_type": "code",
   "execution_count": 27,
   "id": "4bfb09cb",
   "metadata": {},
   "outputs": [
    {
     "name": "stdout",
     "output_type": "stream",
     "text": [
      "[1 2 3]\n",
      "[7 8 9]\n",
      "vstack\n",
      "\n",
      "[[1 2 3]\n",
      " [7 8 9]]\n",
      "concatenate\n",
      "\n",
      "[[1 2 3]\n",
      " [7 8 9]]\n",
      "stack\n",
      "\n",
      "[[1 7]\n",
      " [2 8]\n",
      " [3 9]]\n",
      "concatenate\n",
      "\n",
      "[[1 2 3 7 8 9]]\n",
      "stack\n",
      "\n",
      "[[1 2 3]\n",
      " [7 8 9]]\n",
      "concatenate\n",
      "\n",
      "[[1 2 3]\n",
      " [7 8 9]]\n"
     ]
    }
   ],
   "source": [
    "a = np.array((1,2,3))\n",
    "b = np.array((7,8,9))\n",
    "print(a)\n",
    "print(b)\n",
    "\n",
    "print(\"vstack\\n\")\n",
    "print(np.vstack((a,b)))\n",
    "print(\"concatenate\\n\")\n",
    "print(np.concatenate([a.reshape(1,3),b.reshape(1,3)]))\n",
    "print(\"stack\\n\")\n",
    "print(np.stack((a,b),axis=1))\n",
    "print(\"concatenate\\n\")\n",
    "print(np.concatenate((a.reshape(1,3),b.reshape(1,3)),axis = 1))\n",
    "print(\"stack\\n\")\n",
    "print(np.stack((a,b),axis=0))\n",
    "print(\"concatenate\\n\")\n",
    "print(np.concatenate((a.reshape(1,3),b.reshape(1,3)),axis = 0))"
   ]
  },
  {
   "cell_type": "code",
   "execution_count": 30,
   "id": "0cacc6a5",
   "metadata": {},
   "outputs": [
    {
     "name": "stdout",
     "output_type": "stream",
     "text": [
      "[array([1, 2]), array([3]), array([4]), array([5]), array([6])]\n",
      "[array([1, 2]), array([3, 4]), array([5, 6])]\n"
     ]
    }
   ],
   "source": [
    "#split:splits the elements of array into separate arrays\n",
    "arr = np.array([1, 2, 3, 4, 5, 6])\n",
    "a=np.array_split(arr,5)\n",
    "print(a)\n",
    "newarr = np.array_split(arr, 3)#splits into 3 arrays\n",
    "print(newarr)"
   ]
  },
  {
   "cell_type": "code",
   "execution_count": 34,
   "id": "c121244e",
   "metadata": {},
   "outputs": [
    {
     "name": "stdout",
     "output_type": "stream",
     "text": [
      "Array 1:\n",
      "[[1 2]\n",
      " [3 4]]\n",
      "Array 2:\n",
      "[[5 6]\n",
      " [7 8]]\n",
      "Array 3:\n",
      "[[ 9 10]\n",
      " [11 12]]\n"
     ]
    }
   ],
   "source": [
    "#splitting and printing each array separately\n",
    "arr = np.array([[1, 2], [3, 4], [5, 6], [7, 8], [9, 10], [11, 12]])\n",
    "newarr = np.array_split(arr, 3)\n",
    "print(\"Array 1:\")\n",
    "print(newarr[0])\n",
    "print(\"Array 2:\")\n",
    "print(newarr[1])\n",
    "print(\"Array 3:\")\n",
    "print(newarr[2])"
   ]
  },
  {
   "cell_type": "code",
   "execution_count": 36,
   "id": "1213c9ed",
   "metadata": {},
   "outputs": [
    {
     "name": "stdout",
     "output_type": "stream",
     "text": [
      "hsplit\n",
      " [array([[ 1],\n",
      "       [ 4],\n",
      "       [ 7],\n",
      "       [10],\n",
      "       [13],\n",
      "       [16]]), array([[ 2],\n",
      "       [ 5],\n",
      "       [ 8],\n",
      "       [11],\n",
      "       [14],\n",
      "       [17]]), array([[ 3],\n",
      "       [ 6],\n",
      "       [ 9],\n",
      "       [12],\n",
      "       [15],\n",
      "       [18]])]\n",
      "vsplit\n",
      " [array([[1, 2, 3],\n",
      "       [4, 5, 6]]), array([[ 7,  8,  9],\n",
      "       [10, 11, 12]]), array([[13, 14, 15],\n",
      "       [16, 17, 18]])]\n"
     ]
    }
   ],
   "source": [
    "#hsplit:splits array horizontally\n",
    "#vsplit:splits array vertically\n",
    "arr = np.array([[1, 2, 3], [4, 5, 6], [7, 8, 9], [10, 11, 12], [13, 14, 15], [16, 17, 18]])\n",
    "newarr = np.hsplit(arr, 3)\n",
    "a = np.vsplit(arr, 3)\n",
    "print(\"hsplit\\n\",newarr)\n",
    "print(\"vsplit\\n\",a)"
   ]
  },
  {
   "cell_type": "code",
   "execution_count": 39,
   "id": "070b8598",
   "metadata": {},
   "outputs": [
    {
     "name": "stdout",
     "output_type": "stream",
     "text": [
      "Split with axis=1\n",
      " [array([[ 1],\n",
      "       [ 4],\n",
      "       [ 7],\n",
      "       [10],\n",
      "       [13],\n",
      "       [16]]), array([[ 2],\n",
      "       [ 5],\n",
      "       [ 8],\n",
      "       [11],\n",
      "       [14],\n",
      "       [17]]), array([[ 3],\n",
      "       [ 6],\n",
      "       [ 9],\n",
      "       [12],\n",
      "       [15],\n",
      "       [18]])]\n",
      "Split with axix=0\n",
      " [array([[1, 2, 3],\n",
      "       [4, 5, 6]]), array([[ 7,  8,  9],\n",
      "       [10, 11, 12]]), array([[13, 14, 15],\n",
      "       [16, 17, 18]])]\n"
     ]
    }
   ],
   "source": [
    "#split using axis as 1 and 0\n",
    "arr = np.array([[1, 2, 3], [4, 5, 6], [7, 8, 9], [10, 11, 12], [13, 14, 15], [16, 17, 18]])\n",
    "newarr = np.array_split(arr, 3, axis=1)\n",
    "na = np.array_split(arr, 3, axis=0)\n",
    "print(\"Split with axis=1\\n\",newarr)\n",
    "print(\"Split with axix=0\\n\",na)"
   ]
  },
  {
   "cell_type": "code",
   "execution_count": null,
   "id": "5b26ba96",
   "metadata": {},
   "outputs": [],
   "source": []
  }
 ],
 "metadata": {
  "kernelspec": {
   "display_name": "Python 3",
   "language": "python",
   "name": "python3"
  },
  "language_info": {
   "codemirror_mode": {
    "name": "ipython",
    "version": 3
   },
   "file_extension": ".py",
   "mimetype": "text/x-python",
   "name": "python",
   "nbconvert_exporter": "python",
   "pygments_lexer": "ipython3",
   "version": "3.8.8"
  }
 },
 "nbformat": 4,
 "nbformat_minor": 5
}
