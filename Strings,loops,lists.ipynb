{
 "cells": [
  {
   "cell_type": "code",
   "execution_count": 16,
   "id": "65000599",
   "metadata": {},
   "outputs": [
    {
     "name": "stdout",
     "output_type": "stream",
     "text": [
      "Enter a number:852\n",
      "852 is in the range 501-1000 and is an even number\n"
     ]
    }
   ],
   "source": [
    "n=int(input(\"Enter a number:\"))\n",
    "if n>0 and n<=50:\n",
    "    print(n,\"is in the range 0-50\", end=\" \")\n",
    "elif n>50 and n<=100:\n",
    "    print(n,\"is in the range 51-100\", end=\" \")\n",
    "elif n>100 and n<=500:\n",
    "    print(n,\"is in the range 101-500\", end=\" \")\n",
    "elif n>500 and n<=1000:\n",
    "    print(n,\"is in the range 501-1000\", end=\" \")\n",
    "else:\n",
    "    print(n,\"is above 1000\", end=\" \")\n",
    "if n%2==0:\n",
    "    print(\"and is an even number\")\n",
    "else:\n",
    "    print(\"and is a odd number\")"
   ]
  },
  {
   "cell_type": "code",
   "execution_count": 2,
   "id": "59b09831",
   "metadata": {},
   "outputs": [
    {
     "name": "stdout",
     "output_type": "stream",
     "text": [
      "Enter age: 18\n",
      "Eligible to vote.\n"
     ]
    }
   ],
   "source": [
    "a=int(input(\"Enter age: \"))\n",
    "if(a>=18):\n",
    "    print(\"Eligible to vote.\")\n",
    "else:\n",
    "    print(\"Not eligible to vote.\")"
   ]
  },
  {
   "cell_type": "code",
   "execution_count": 28,
   "id": "15ea93cd",
   "metadata": {},
   "outputs": [
    {
     "name": "stdout",
     "output_type": "stream",
     "text": [
      "Enter String:hello\n",
      "hello\n",
      "h\n",
      "ello\n",
      "hello Concatination\n",
      "Hello\n"
     ]
    }
   ],
   "source": [
    "s=input(\"Enter String:\")\n",
    "print(s)#print the string\n",
    "print(s[0])#print the char of the string\n",
    "print(s[1:5])#print the char from position 1 to 5\n",
    "print(s+' Concatination')#concatination\n",
    "print(s.capitalize())#capitalize the first char of string"
   ]
  },
  {
   "cell_type": "code",
   "execution_count": 52,
   "id": "1881be1c",
   "metadata": {},
   "outputs": [
    {
     "name": "stdout",
     "output_type": "stream",
     "text": [
      "!!!!!!string using center function!!!!!!\n",
      "Count with range:  2\n",
      "Count:  3\n",
      "Find:  2\n",
      "Find with indexes:  -1\n",
      "Index:  6\n",
      "Index with beg and end:  6\n"
     ]
    }
   ],
   "source": [
    "#center: displays the string at the center, default with whitespaces and can be replaced with other char\n",
    "str = \"string using center function\"\n",
    "print (str.center(40, '!'))\n",
    "\n",
    "#count:finds the number of occrrences of a substring in a string given the range\n",
    "str = \"hello world\";\n",
    "sub = \"l\";\n",
    "print (\"Count with range: \",str.count(sub, 0,6))\n",
    "print (\"Count: \",str.count(sub))\n",
    "\n",
    "#find:determines if substring is part of the given string, given the start and end indexes\n",
    "str1 = \"using find in the string\";\n",
    "str2 = \"in\";\n",
    "print (\"Find: \",str1.find(str2))\n",
    "print (\"Find with indexes: \",str1.find(str2,40))\n",
    "\n",
    "#index:determines if a substring is part of string given indexes\n",
    "s1 = \"Using index in the string\";\n",
    "s2 = \"ind\";\n",
    "print (\"Index: \",s1.index(s2))\n",
    "print (\"Index with beg and end: \",s1.index(s2,2,12))"
   ]
  },
  {
   "cell_type": "code",
   "execution_count": 59,
   "id": "faa06c0d",
   "metadata": {
    "scrolled": false
   },
   "outputs": [
    {
     "name": "stdout",
     "output_type": "stream",
     "text": [
      "isalnum:  True\n",
      "isalnum:  False\n",
      "\n",
      "isalpha:  True\n",
      "isalpha:  False\n",
      "\n",
      "isdigit:  True\n",
      "isdigit:  False\n",
      "\n",
      "islower:  False\n",
      "islower:  True\n",
      "\n",
      "isupper:  True\n",
      "isupper:  False\n",
      "\n",
      "isspace:  True\n",
      "isspace:  False\n"
     ]
    }
   ],
   "source": [
    "#isalnum() checks whether the string consists of alphanumeric characters.\n",
    "str = \"abcd1234\";\n",
    "print (\"isalnum: \",str.isalnum())\n",
    "str = \"abcd 1234\";#false because of whitespace\n",
    "print (\"isalnum: \",str.isalnum())\n",
    "\n",
    "#isalpha() checks whether the string consists of alphabet characters\n",
    "str = \"abcd\";\n",
    "print (\"\\nisalpha: \",str.isalpha())\n",
    "str = \"a12d\";\n",
    "print (\"isalpha: \",str.isalpha())\n",
    "\n",
    "#isdigit() checks whether the string consists of digits\n",
    "str = \"1234\"\n",
    "print (\"\\nisdigit: \",str.isdigit())\n",
    "str = \"1ab4\"\n",
    "print (\"isdigit: \",str.isdigit())\n",
    "\n",
    "#islower: checks if the string is in lowercase\n",
    "str = \"String\"; \n",
    "print (\"\\nislower: \",str.islower())\n",
    "str = \"string\";\n",
    "print (\"islower: \",str.islower())\n",
    "\n",
    "#isupper: checks if the string is in uppercase\n",
    "str = \"STRING\"; \n",
    "print (\"\\nisupper: \",str.isupper())\n",
    "str = \"string\";\n",
    "print (\"isupper: \",str.isupper())\n",
    "\n",
    "#isspace: checks for whitespace\n",
    "str = \"  \"; \n",
    "print (\"\\nisspace: \",str.isspace())\n",
    "str = \"Space string\";\n",
    "print (\"isspace: \",str.isspace())"
   ]
  },
  {
   "cell_type": "code",
   "execution_count": 66,
   "id": "a6f21933",
   "metadata": {},
   "outputs": [
    {
     "name": "stdout",
     "output_type": "stream",
     "text": [
      "True\n",
      "False\n",
      "\n",
      " What! the! hell!  \n",
      "\n",
      "Length:  30\n",
      "\n",
      " Example string######\n",
      "@@@@@@Example string\n",
      "\n",
      " lowercase\n",
      "\n",
      " UPPERCASE\n",
      "\n",
      "Max character: z\n",
      "Min character: a\n"
     ]
    }
   ],
   "source": [
    "#istitle: checks if the first letter of each word is in uppercase\n",
    "str = \"Hello World\";\n",
    "print (str.istitle())\n",
    "str = \"Hello world\";\n",
    "print (str.istitle())\n",
    "\n",
    "#join() returns a string in which the string elements of sequence have been joined by str separator.\n",
    "s = \"! \";\n",
    "seq = (\"What\", \"the\", \"hell\",\" \");\n",
    "print (\"\\n\",s.join( seq ))\n",
    "\n",
    "#len finds the length of the string\n",
    "str = \"Length of the string using len\";\n",
    "print (\"\\nLength: \",len(str))\n",
    "\n",
    "#lstrip() returns a copy of the string in which all chars have been stripped from the beginning of the string (default whitespace characters\n",
    "str = \"@@@@@@Example string######\";\n",
    "print (\"\\n\",str.lstrip('@'))\n",
    "print (str.rstrip('#'))\n",
    "\n",
    "#lower converts string to lowercase\n",
    "str = \"LOWERCASE\";\n",
    "print (\"\\n\",str.lower())\n",
    "\n",
    "#upper converts string to lowercase\n",
    "str = \"uppercase\";\n",
    "print (\"\\n\",str.upper())\n",
    "\n",
    "#max and min returns largest and smallest character\n",
    "str = \"azbcydx\";\n",
    "print (\"\\nMax character: \" + max(str))\n",
    "print (\"Min character: \" + min(str))"
   ]
  },
  {
   "cell_type": "code",
   "execution_count": 72,
   "id": "9d17beb6",
   "metadata": {},
   "outputs": [
    {
     "name": "stdout",
     "output_type": "stream",
     "text": [
      "Data analysis using python\n",
      "\n",
      "\n",
      "True\n",
      "False\n",
      "\n",
      "\n",
      "aBcDeFgHi\n"
     ]
    }
   ],
   "source": [
    "#replace replaces a part of string\n",
    "str = \"Data analysis with python\"\n",
    "print (str.replace(\"with\", \"using\"))\n",
    "\n",
    "#startswith checks if the string starts with given substring\n",
    "str = \"data analysis with python\";\n",
    "print(\"\\n\")\n",
    "print (str.startswith('data'))\n",
    "print (str.startswith('analysis'))\n",
    "\n",
    "#swapcase converts the case of the string from upper to lower or vice-versa\n",
    "str = \"AbCdEfGhI\";\n",
    "print(\"\\n\")\n",
    "print (str.swapcase())"
   ]
  },
  {
   "cell_type": "code",
   "execution_count": 84,
   "id": "fcdcff40",
   "metadata": {},
   "outputs": [
    {
     "name": "stdout",
     "output_type": "stream",
     "text": [
      "S\n",
      "t\n",
      "r\n",
      "i\n",
      "n\n",
      "g\n",
      "\n",
      "\n",
      "0 1 2 3 4 5 6 7 8 9 10 "
     ]
    }
   ],
   "source": [
    "s = \"String\"\n",
    "for i in s:\n",
    "    print(i)\n",
    "print(\"\\n\")\n",
    "i=1\n",
    "for i in range(11): \n",
    "    print(i,end=' ')"
   ]
  },
  {
   "cell_type": "code",
   "execution_count": 116,
   "id": "3f644590",
   "metadata": {},
   "outputs": [
    {
     "name": "stdout",
     "output_type": "stream",
     "text": [
      "The sum is: 183\n",
      "\n",
      "\n",
      "Enter the number 3\n",
      "3 * 1 = 3\n",
      "3 * 2 = 6\n",
      "3 * 3 = 9\n",
      "3 * 4 = 12\n",
      "3 * 5 = 15\n",
      "3 * 6 = 18\n",
      "3 * 7 = 21\n",
      "3 * 8 = 24\n",
      "3 * 9 = 27\n",
      "3 * 10 = 30\n",
      "\n",
      "\n",
      "Enter the number 5\n",
      "5 * 1 = 5\n",
      "5 * 2 = 10\n",
      "5 * 3 = 15\n",
      "5 * 4 = 20\n",
      "5 * 5 = 25\n",
      "5 * 6 = 30\n",
      "5 * 7 = 35\n",
      "5 * 8 = 40\n",
      "5 * 9 = 45\n",
      "5 * 10 = 50\n"
     ]
    }
   ],
   "source": [
    "list = [10,30,23,43,65,12]  \n",
    "sum = 0  \n",
    "for i in list: \n",
    "    sum = sum+i  \n",
    "print(\"The sum is:\",sum)  \n",
    "print(\"\\n\")\n",
    "n = int(input(\"Enter the number \"))\n",
    "for i in range(1,11):\n",
    "    c = n*i  \n",
    "    print(n,\"*\",i,\"=\",c)\n",
    "print(\"\\n\")    \n",
    "b=int(input(\"Enter the number \"))\n",
    "j=1\n",
    "while(j<=10):\n",
    "    a=b*j\n",
    "    print(b,\"*\",j,\"=\",a)\n",
    "    j=j+1"
   ]
  },
  {
   "cell_type": "code",
   "execution_count": 119,
   "id": "47493631",
   "metadata": {},
   "outputs": [
    {
     "name": "stdout",
     "output_type": "stream",
     "text": [
      "Enter the number 8\n",
      "2\n",
      "4\n",
      "6\n",
      "\n",
      "\n",
      "Hello Info\n",
      "Hello Analysis\n",
      "Hello Python\n",
      "Hello Data\n"
     ]
    }
   ],
   "source": [
    "n = int(input(\"Enter the number \"))\n",
    "for i in range(2,n,2):\n",
    "    print(i)\n",
    "print(\"\\n\")\n",
    "list = ['Info','Analysis','Python','Data']\n",
    "for i in range(len(list)):\n",
    "    print(\"Hello\",list[i])  "
   ]
  },
  {
   "cell_type": "code",
   "execution_count": 120,
   "id": "ff616af6",
   "metadata": {},
   "outputs": [
    {
     "name": "stdout",
     "output_type": "stream",
     "text": [
      "0\n",
      "Hello\n",
      "Break\n",
      "\n",
      "\n",
      "0\n",
      "Hello\n",
      "1\n",
      "Hello\n",
      "2\n",
      "Hello\n",
      "Continue\n"
     ]
    }
   ],
   "source": [
    "for i in range(0,3):\n",
    "    print(i)    \n",
    "    print(\"Hello\")\n",
    "    break\n",
    "    print(\"Hey\") \n",
    "print(\"Break\")\n",
    "print(\"\\n\")\n",
    "for i in range(0,3):\n",
    "    print(i)    \n",
    "    print(\"Hello\")\n",
    "    continue\n",
    "    print(\"Hey\") \n",
    "print(\"Continue\")"
   ]
  },
  {
   "cell_type": "code",
   "execution_count": 107,
   "id": "55d561ff",
   "metadata": {},
   "outputs": [
    {
     "name": "stdout",
     "output_type": "stream",
     "text": [
      "Current Letter : p\n",
      "Current Letter : y\n",
      "Current Letter : t\n",
      "\n",
      "\n",
      "Current Letter : p\n",
      "Current Letter : y\n",
      "Current Letter : t\n",
      "Current Letter : o\n",
      "Current Letter : n\n"
     ]
    }
   ],
   "source": [
    "i = 0 \n",
    "str1 = 'python'  \n",
    "while i < len(str1):   \n",
    "    if str1[i] == 'h':   \n",
    "        i += 1  \n",
    "        break  \n",
    "    print('Current Letter :', str1[i])   \n",
    "    i += 1  \n",
    "print(\"\\n\")\n",
    "j = 0\n",
    "while j < len(str1):   \n",
    "    if str1[j] == 'h':   \n",
    "        j += 1  \n",
    "        continue \n",
    "    print('Current Letter :', str1[j])   \n",
    "    j += 1  "
   ]
  },
  {
   "cell_type": "code",
   "execution_count": 109,
   "id": "9c075a1f",
   "metadata": {},
   "outputs": [
    {
     "name": "stdout",
     "output_type": "stream",
     "text": [
      "item matched\n",
      "found at 2 location\n"
     ]
    }
   ],
   "source": [
    "    list =[1,2,3,4]  \n",
    "    i=1;\n",
    "    count = 1;  \n",
    "    for i in list:  \n",
    "        if i == 4:  \n",
    "            print(\"item matched\")  \n",
    "            count = count + 1;  \n",
    "            break  \n",
    "    print(\"found at\",count,\"location\");  "
   ]
  },
  {
   "cell_type": "code",
   "execution_count": 117,
   "id": "0bef223d",
   "metadata": {},
   "outputs": [
    {
     "name": "stdout",
     "output_type": "stream",
     "text": [
      "Current element: 1 Current element: 2 Current element: 3 \n",
      "We are inside pass block\n",
      "\n",
      "\n",
      "Came out of pass\n",
      "\n",
      "Current element: 4 Current element: 5 "
     ]
    }
   ],
   "source": [
    "    list = [1,2,3,4,5]    \n",
    "    flag = 0    \n",
    "    for i in list:    \n",
    "        print(\"Current element:\",i,end=\" \");    \n",
    "        if i==3:    \n",
    "            pass    \n",
    "            print(\"\\nWe are inside pass block\\n\");    \n",
    "            flag = 1    \n",
    "        if flag==1:    \n",
    "            print(\"\\nCame out of pass\\n\");    \n",
    "            flag=0   "
   ]
  },
  {
   "cell_type": "code",
   "execution_count": 118,
   "id": "8ac8cfa9",
   "metadata": {},
   "outputs": [
    {
     "name": "stdout",
     "output_type": "stream",
     "text": [
      "1\n",
      "2\n",
      "3\n",
      "This is pass block 4\n",
      "4\n",
      "5\n"
     ]
    }
   ],
   "source": [
    "    for i in [1,2,3,4,5]:   \n",
    "        if(i==4):  \n",
    "            pass  \n",
    "            print(\"This is pass block\",i)  \n",
    "        print(i)  "
   ]
  },
  {
   "cell_type": "code",
   "execution_count": 123,
   "id": "f0d9c355",
   "metadata": {},
   "outputs": [
    {
     "name": "stdout",
     "output_type": "stream",
     "text": [
      "list1[0]:  1997\n",
      "list2[1:5]:  [2, 3, 4, 5]\n",
      "Length of list1:  4\n",
      "Length of list2:  7\n"
     ]
    }
   ],
   "source": [
    "list1 = ['physics', 'chemistry', 1997, 2000];\n",
    "list2 = [1, 2, 3, 4, 5, 6, 7 ];\n",
    "print (\"list1[0]: \", list1[2])\n",
    "print (\"list2[1:5]: \", list2[1:5])\n",
    "print(\"Length of list1: \",len(list1))\n",
    "print(\"Length of list2: \",len(list2))"
   ]
  },
  {
   "cell_type": "code",
   "execution_count": 126,
   "id": "e098f5b4",
   "metadata": {},
   "outputs": [
    {
     "name": "stdout",
     "output_type": "stream",
     "text": [
      "['physics', 'chemistry', 1997, 2000]\n",
      "After deleting value at index 2 :\n",
      "['physics', 'chemistry', 2000]\n",
      "Appending item to list\n",
      "['physics', 'chemistry', 2000, 'maths', 2003]\n"
     ]
    }
   ],
   "source": [
    "list1 = ['physics', 'chemistry', 1997, 2000];\n",
    "print (list1)\n",
    "del (list1[2]);\n",
    "print (\"After deleting value at index 2 :\")\n",
    "print (list1)\n",
    "print(\"Appending item to list\")\n",
    "list1.append('maths')\n",
    "list1.append(2003)\n",
    "print(list1)"
   ]
  },
  {
   "cell_type": "code",
   "execution_count": 134,
   "id": "dad66981",
   "metadata": {},
   "outputs": [
    {
     "name": "stdout",
     "output_type": "stream",
     "text": [
      "[123, 'xyz', 'def', 'abc', 123]\n",
      "Count of 123:  2\n",
      "Index of def:  2\n",
      "Extended List :  [123, 'xyz', 'def', 'abc', 123, 2009, 'pqr']\n",
      "Insert 333 at position 3\n",
      "[123, 'xyz', 'def', 333, 'abc', 123, 2009, 'pqr']\n",
      "Pop element from list:  pqr\n",
      "[123, 'xyz', 'def', 333, 'abc', 123, 2009]\n"
     ]
    }
   ],
   "source": [
    "aList = [123, 'xyz', 'def', 'abc', 123];\n",
    "bList = [2009, 'pqr'];\n",
    "print(aList)\n",
    "print(\"Count of 123: \",aList.count(123))\n",
    "print(\"Index of def: \",aList.index('def'))\n",
    "aList.extend(bList)\n",
    "print (\"Extended List : \", aList)\n",
    "aList.insert(3,333)\n",
    "print(\"Insert 333 at position 3\")\n",
    "print(aList)\n",
    "print(\"Pop element from list: \",aList.pop())\n",
    "print(aList)"
   ]
  },
  {
   "cell_type": "code",
   "execution_count": 138,
   "id": "e7bf6380",
   "metadata": {},
   "outputs": [
    {
     "name": "stdout",
     "output_type": "stream",
     "text": [
      "[3, 'a', 'r', 'c', 'q', 't']\n",
      "['a', 'r', 'c', 'q', 't']\n",
      "Sorting the list: ['a', 'c', 'q', 'r', 't']\n",
      "Reverse the list ['t', 'r', 'q', 'c', 'a']\n"
     ]
    }
   ],
   "source": [
    "l=[3,'a','r','c','q','t']\n",
    "print(l)\n",
    "l.remove(3)\n",
    "print(l)\n",
    "l.sort()\n",
    "print(\"Sorting the list:\",l)\n",
    "l.reverse()\n",
    "print(\"Reverse the list\",l)"
   ]
  },
  {
   "cell_type": "code",
   "execution_count": 16,
   "id": "4b43e55f",
   "metadata": {},
   "outputs": [
    {
     "name": "stdout",
     "output_type": "stream",
     "text": [
      "\n",
      "Inventory is\n",
      "\n",
      "['S.No', 'Name', 'Price', 'Quantity', 'Manufacturer'] \t\n",
      "[1, 'Mouse', 500, 20, 'Dell'] \t\n",
      "[2, 'Keyboard', 1000, 15, 'HP'] \t\n",
      "[3, 'Monitor', 2500, 10, 'Samsung'] \t\n",
      "[4, 'Pendrive', 1000, 25, 'Transcend'] \t\n",
      "\n",
      "1:Purchase\n",
      "2:Count\n",
      "0:exit\n",
      "1\n",
      "Enter the S.No 4\n",
      "Number of units required: 20\n",
      "Item Added \n",
      "\n",
      "Stock filled\n",
      "\n",
      "Inventory is\n",
      "\n",
      "['S.No', 'Name', 'Price', 'Quantity', 'Manufacturer'] \t\n",
      "[1, 'Mouse', 500, 20, 'Dell'] \t\n",
      "[2, 'Keyboard', 1000, 15, 'HP'] \t\n",
      "[3, 'Monitor', 2500, 10, 'Samsung'] \t\n",
      "[4, 'Pendrive', 1000, 20, 'Transcend'] \t\n",
      "\n",
      "1:Purchase\n",
      "2:Count\n",
      "0:exit\n",
      "2\n",
      "Enter the S.No 2\n",
      "Remaining Stock:  15\n",
      "\n",
      "Inventory is\n",
      "\n",
      "['S.No', 'Name', 'Price', 'Quantity', 'Manufacturer'] \t\n",
      "[1, 'Mouse', 500, 20, 'Dell'] \t\n",
      "[2, 'Keyboard', 1000, 15, 'HP'] \t\n",
      "[3, 'Monitor', 2500, 10, 'Samsung'] \t\n",
      "[4, 'Pendrive', 1000, 20, 'Transcend'] \t\n",
      "\n",
      "1:Purchase\n",
      "2:Count\n",
      "0:exit\n",
      "10\n",
      "Incorrect option. Try again.\n",
      "\n",
      "Inventory is\n",
      "\n",
      "['S.No', 'Name', 'Price', 'Quantity', 'Manufacturer'] \t\n",
      "[1, 'Mouse', 500, 20, 'Dell'] \t\n",
      "[2, 'Keyboard', 1000, 15, 'HP'] \t\n",
      "[3, 'Monitor', 2500, 10, 'Samsung'] \t\n",
      "[4, 'Pendrive', 1000, 20, 'Transcend'] \t\n",
      "\n",
      "1:Purchase\n",
      "2:Count\n",
      "0:exit\n",
      "1\n",
      "Enter the S.No 2\n",
      "Number of units required: 10\n",
      "Item Added \n",
      "\n",
      "Stock filled\n",
      "\n",
      "Inventory is\n",
      "\n",
      "['S.No', 'Name', 'Price', 'Quantity', 'Manufacturer'] \t\n",
      "[1, 'Mouse', 500, 20, 'Dell'] \t\n",
      "[2, 'Keyboard', 1000, 20, 'HP'] \t\n",
      "[3, 'Monitor', 2500, 10, 'Samsung'] \t\n",
      "[4, 'Pendrive', 1000, 20, 'Transcend'] \t\n",
      "\n",
      "1:Purchase\n",
      "2:Count\n",
      "0:exit\n",
      "0\n",
      "\n",
      "Total bill amount:  30000 \n",
      "Thank you!\n"
     ]
    }
   ],
   "source": [
    "def show():\n",
    "    for i in h:\n",
    "        print(i,\"\\t\")\n",
    "  \n",
    "def checkInven():\n",
    "  for i in range(1,len(h)):\n",
    "    if(h[i][3]<=5):\n",
    "      print(\"\\nStock filled\")\n",
    "      h[i][3]=20\n",
    "\n",
    "h=[['S.No','Name','Price','Quantity', 'Manufacturer'],[1,'Mouse',500,20,'Dell'],[2,'Keyboard',1000,15,'HP'],[3,'Monitor',2500,10,'Samsung'],[4,'Pendrive',1000,25,'Transcend']]\n",
    "n=5\n",
    "cost=0\n",
    "while(n!=0):\n",
    "  checkInven()\n",
    "  print(\"\\nInventory is\\n\")\n",
    "  show()\n",
    "  n=int(input(\"\\n1:Purchase\\n2:Count\\n0:exit\\n\"))\n",
    "  if(n==1):\n",
    "    a=int(input(\"Enter the S.No \"))\n",
    "    if(a>4):\n",
    "      print(\"Incorrect option. Try again.\")\n",
    "      continue\n",
    "    count=int(input(\"Number of units required: \"))\n",
    "    if(h[a][3]<count):\n",
    "      print(\"Sorry.. not enough stock\")\n",
    "    else:\n",
    "      h[a][3]-=count\n",
    "      print(\"Item Added \")\n",
    "      cost+=h[a][2]*count\n",
    "  elif(n==2):\n",
    "    b=int(input(\"Enter the S.No \"))\n",
    "    if(b>4):\n",
    "      print(\"Incorrect option. Try again.\")\n",
    "      continue\n",
    "    print(\"Remaining Stock: \",h[b][3])\n",
    "  elif(n==0):\n",
    "    pass\n",
    "  else:\n",
    "    print(\"Incorrect option. Try again.\")\n",
    "print(\"\\nTotal bill amount: \",cost,\"\\nThank you!\")"
   ]
  },
  {
   "cell_type": "code",
   "execution_count": 35,
   "id": "7d46cdd5",
   "metadata": {},
   "outputs": [
    {
     "name": "stdout",
     "output_type": "stream",
     "text": [
      "Please enter mobile number: 9876543210\n",
      "1.Airtel\n",
      "2.Jio\n",
      "3.VI\n",
      "4.BSNL\n",
      "Enter operator: 2\n",
      "\n",
      "1.Recharge\n",
      "2.Data\n",
      "3.Validity Extension\n",
      "4.Exit\n",
      "Enter choice: 3\n",
      "1.3 months for 120\n",
      "2.6 months for 250\n",
      "3.1 year for 495\n",
      "Choose plan: 2\n",
      "6 months validity extended\n",
      "\n",
      "1.Recharge\n",
      "2.Data\n",
      "3.Validity Extension\n",
      "4.Exit\n",
      "Enter choice: 1\n",
      "Enter recharge amount: 85\n",
      "Recharge for Rs 85 done successfully\n",
      "\n",
      "1.Recharge\n",
      "2.Data\n",
      "3.Validity Extension\n",
      "4.Exit\n",
      "Enter choice: 2\n",
      "DataPlans\n",
      "1.2gb/d for 28 days=Rs 150\n",
      "2.1.5gb/d for 28 days=Rs120\n",
      "Enter plan: 3\n",
      "Wrong choice. Try again.\n",
      "\n",
      "1.Recharge\n",
      "2.Data\n",
      "3.Validity Extension\n",
      "4.Exit\n",
      "Enter choice: 2\n",
      "DataPlans\n",
      "1.2gb/d for 28 days=Rs 150\n",
      "2.1.5gb/d for 28 days=Rs120\n",
      "Enter plan: 2\n",
      "Rs.120 data plan recharge successfull\n",
      "\n",
      "1.Recharge\n",
      "2.Data\n",
      "3.Validity Extension\n",
      "4.Exit\n",
      "Enter choice: 4\n",
      "Total bill amount: 455 \n",
      "Thank You!\n"
     ]
    }
   ],
   "source": [
    "a=0\n",
    "n=int(input(\"Please enter mobile number: \"))\n",
    "print(\"1.Airtel\\n2.Jio\\n3.VI\\n4.BSNL\")\n",
    "o=int(input(\"Enter operator: \"))\n",
    "while(o!=0 and o<=4):\n",
    "    print(\"\\n1.Recharge\\n2.Data\\n3.Validity Extension\\n4.Exit\")\n",
    "    c=int(input(\"Enter choice: \"))\n",
    "    if(c==1):\n",
    "        r=int(input(\"Enter recharge amount: \"))\n",
    "        print(\"Recharge for Rs\",r,\"done successfully\")\n",
    "        a+=r\n",
    "    elif(c==2):\n",
    "        print(\"DataPlans\\n1.2gb/d for 28 days=Rs 150\\n2.1.5gb/d for 28 days=Rs120\")\n",
    "        d=int(input(\"Enter plan: \"))\n",
    "        if (d==1):\n",
    "            print(\"Rs.150 data plan recharge successfull\")\n",
    "            a+=150\n",
    "        elif(d==2):\n",
    "            print(\"Rs.120 data plan recharge successfull\")\n",
    "            a+=120\n",
    "        else:\n",
    "            print(\"Wrong choice. Try again.\")\n",
    "            #continue\n",
    "    elif(c==3):\n",
    "        print(\"1.3 months for 120\\n2.6 months for 250\\n3.1 year for 495\")\n",
    "        v=int(input(\"Choose plan: \"))\n",
    "        if(v==1):\n",
    "            print(\"3 months validity extended\")\n",
    "            a+=120\n",
    "        elif(v==2):\n",
    "            print(\"6 months validity extended\")\n",
    "            a+=250\n",
    "        else:\n",
    "            print(\"Wrong choice. Try again.\")\n",
    "    elif(c==4):\n",
    "        print(\"Total bill amount:\",a,\"\\nThank You!\")\n",
    "        break\n",
    "    else:\n",
    "        print(\"Wrong Choice. Try again\")\n",
    "            \n",
    "    "
   ]
  },
  {
   "cell_type": "code",
   "execution_count": null,
   "id": "7242f730",
   "metadata": {},
   "outputs": [],
   "source": []
  },
  {
   "cell_type": "code",
   "execution_count": null,
   "id": "a45b22c9",
   "metadata": {},
   "outputs": [],
   "source": []
  }
 ],
 "metadata": {
  "kernelspec": {
   "display_name": "Python 3",
   "language": "python",
   "name": "python3"
  },
  "language_info": {
   "codemirror_mode": {
    "name": "ipython",
    "version": 3
   },
   "file_extension": ".py",
   "mimetype": "text/x-python",
   "name": "python",
   "nbconvert_exporter": "python",
   "pygments_lexer": "ipython3",
   "version": "3.8.8"
  }
 },
 "nbformat": 4,
 "nbformat_minor": 5
}
