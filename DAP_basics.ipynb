{
 "cells": [
  {
   "cell_type": "code",
   "execution_count": null,
   "id": "dfaf7b30",
   "metadata": {},
   "outputs": [
    {
     "name": "stdout",
     "output_type": "stream",
     "text": [
      "Lets do some operations\n",
      "\n",
      "Enter choice:\n",
      "1.Numbers\n",
      "2.ASCII values\n",
      "3.Strings\n",
      "4.Print\n",
      "5.Datatypes\n",
      "6.End\n",
      "5\n",
      "The type of String is <class 'str'> \n",
      "The type of Integer is <class 'int'> \n",
      "The type of Float is <class 'float'>\n"
     ]
    }
   ],
   "source": [
    "print(\"Lets do some operations\")\n",
    "while True :\n",
    "    val=int(input(\"\\nEnter choice:\\n1.Numbers\\n2.ASCII values\\n3.Strings\\n4.Print\\n5.Datatypes\\n6.End\\n\"))\n",
    "    if(val==1):\n",
    "        c1=int(input(\"\\n1.Add\\n2.Subtract\\n3.Multiply\\n4.Divide\\n5.Remainder\\n\"))\n",
    "        a=int(input(\"Enter 1st number \"))\n",
    "        b=int(input(\"Enter 2nd number \"))\n",
    "        if(c1==1):\n",
    "            print(\"Sum is \",a+b)\n",
    "        elif(c1==2):\n",
    "            print(\"Difference is \",a-b)\n",
    "        elif(c1==3):\n",
    "            print(\"Product is \",a*b)\n",
    "        elif(c1==4):\n",
    "            print(\"Quotient is \",a/b)\n",
    "        elif(c1==5):\n",
    "            print(\"Remainder is \",a%b)\n",
    "        else:\n",
    "            print(\"Incorrect option.\")\n",
    "    elif(val==2):\n",
    "        c2=int(input(\"1.Character to ASCII\\n2.ASCII to Character\\n\"))\n",
    "        if(c2==1):\n",
    "            c=input(\"Input Character \")\n",
    "            print(ord(c))\n",
    "        elif(c2==2):\n",
    "            d=int(input(\"Input Integer \"))\n",
    "            print(chr(d))\n",
    "        else:\n",
    "            print(\"Incorrect option.\")\n",
    "    elif(val==3):\n",
    "        string=input(\"Enter a string \")\n",
    "        print(\"The length of the string is\",len(string),\"\\nThe first character is\",string[0],\"\\nThe last character is\",string[len(string)-1])\n",
    "    elif(val==4):\n",
    "        p=input(\"Enter content to print \")\n",
    "        print(\"Print: \",p)\n",
    "    elif(val==5):\n",
    "        data1=\"String\"\n",
    "        data2=5\n",
    "        data3=7.5\n",
    "        print(\"The type of String is\",type(data1),\"\\nThe type of Integer is\",type(data2),\"\\nThe type of Float is\",type(data3))\n",
    "    elif(val==6):\n",
    "        print(\"Terminated!\")\n",
    "        break\n",
    "    else:\n",
    "        print(\"Wrong Choice\")"
   ]
  },
  {
   "cell_type": "code",
   "execution_count": null,
   "id": "ad605574",
   "metadata": {},
   "outputs": [],
   "source": []
  }
 ],
 "metadata": {
  "kernelspec": {
   "display_name": "Python 3",
   "language": "python",
   "name": "python3"
  },
  "language_info": {
   "codemirror_mode": {
    "name": "ipython",
    "version": 3
   },
   "file_extension": ".py",
   "mimetype": "text/x-python",
   "name": "python",
   "nbconvert_exporter": "python",
   "pygments_lexer": "ipython3",
   "version": "3.8.8"
  }
 },
 "nbformat": 4,
 "nbformat_minor": 5
}
